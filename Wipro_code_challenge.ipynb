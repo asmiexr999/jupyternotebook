{
 "cells": [
  {
   "cell_type": "code",
   "execution_count": 50,
   "metadata": {},
   "outputs": [
    {
     "name": "stdout",
     "output_type": "stream",
     "text": [
      "Case #1: 129\n",
      "Case #2: 0999\n",
      "Case #3: 7\n",
      "Case #4: 099999999999999999\n",
      "Case #5: 699999999999999999\n",
      "Case #6: 266999999999999999\n",
      "Case #7: 599\n",
      "Case #8: 099999999999999999\n",
      "Case #9: 122999999999999999\n",
      "Case #10: 0999999999\n",
      "Case #11: 489999999999999999\n",
      "Case #12: 169999999999999999\n",
      "Case #13: 126699999999999999\n",
      "Case #14: 19999999999999999\n",
      "Case #15: 1999999999\n",
      "Case #16: 5999999999\n",
      "Case #17: 17\n",
      "Case #18: 229999999999999999\n",
      "Case #19: 126999999999999999\n",
      "Case #20: 899999999999999999\n",
      "Case #21: None\n"
     ]
    }
   ],
   "source": [
    "def tidy_func(number):\n",
    "    line = str(number)\n",
    "    if len(line) ==1:\n",
    "        return str(line)\n",
    "    elif len(line) == 2:\n",
    "            return str(line)\n",
    "    prev = \"0\"\n",
    "    for i, digit in enumerate(line):\n",
    "        if digit <= prev:\n",
    "            leftside = str(int(line[:i])-1)\n",
    "            rightside = \"9\" * (len(line) - i)\n",
    "            return str(leftside + rightside)\n",
    "        prev = digit\n",
    "\n",
    "infile   = open( 'input.txt', 'r' )\n",
    "cases = int(infile.readline())+1\n",
    "for i in range(cases):\n",
    "            line_fun = tidy_func(infile.readline().strip())\n",
    "            print(\"Case #%d: %s\" % (i+1, line_fun))"
   ]
  },
  {
   "cell_type": "code",
   "execution_count": null,
   "metadata": {},
   "outputs": [],
   "source": []
  }
 ],
 "metadata": {
  "kernelspec": {
   "display_name": "Python 2",
   "language": "python",
   "name": "python2"
  },
  "language_info": {
   "codemirror_mode": {
    "name": "ipython",
    "version": 2
   },
   "file_extension": ".py",
   "mimetype": "text/x-python",
   "name": "python",
   "nbconvert_exporter": "python",
   "pygments_lexer": "ipython2",
   "version": "2.7.15"
  }
 },
 "nbformat": 4,
 "nbformat_minor": 2
}
