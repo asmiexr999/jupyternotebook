{
 "cells": [
  {
   "cell_type": "code",
   "execution_count": 50,
   "metadata": {},
   "outputs": [
    {
     "name": "stdout",
     "output_type": "stream",
     "text": [
      "Case #1: 129\n",
      "Case #2: 0999\n",
      "Case #3: 7\n",
      "Case #4: 099999999999999999\n",
      "Case #5: 699999999999999999\n",
      "Case #6: 266999999999999999\n",
      "Case #7: 599\n",
      "Case #8: 099999999999999999\n",
      "Case #9: 122999999999999999\n",
      "Case #10: 0999999999\n",
      "Case #11: 489999999999999999\n",
      "Case #12: 169999999999999999\n",
      "Case #13: 126699999999999999\n",
      "Case #14: 19999999999999999\n",
      "Case #15: 1999999999\n",
      "Case #16: 5999999999\n",
      "Case #17: 17\n",
      "Case #18: 229999999999999999\n",
      "Case #19: 126999999999999999\n",
      "Case #20: 899999999999999999\n",
      "Case #21: None\n"
     ]
    }
   ],
   "source": [
    "def tidy_func(number):\n",
    "    line = str(number)\n",
    "    if len(line) ==1:\n",
    "        return str(line)\n",
    "    elif len(line) == 2:\n",
    "            return str(line)\n",
    "    prev = \"0\"\n",
    "    for i, digit in enumerate(line):\n",
    "        if digit <= prev:\n",
    "            leftside = str(int(line[:i])-1)\n",
    "            rightside = \"9\" * (len(line) - i)\n",
    "            return str(leftside + rightside)\n",
    "        prev = digit\n",
    "\n",
    "infile   = open( 'input.txt', 'r' )\n",
    "cases = int(infile.readline())+1\n",
    "for i in range(cases):\n",
    "            line_fun = tidy_func(infile.readline().strip())\n",
    "            print(\"Case #%d: %s\" % (i+1, line_fun))"
   ]
  },
  {
   "cell_type": "code",
   "execution_count": 47,
   "metadata": {},
   "outputs": [
    {
     "name": "stdout",
     "output_type": "stream",
     "text": [
      "Case #1: 129\n",
      "Case #2: 0999\n",
      "Case #3: 7\n",
      "Case #4: 099999999999999999\n",
      "Case #5: 699999999999999999\n",
      "Case #6: 266999999999999999\n",
      "Case #7: 599\n",
      "Case #8: 099999999999999999\n",
      "Case #9: 122999999999999999\n",
      "Case #10: 0999999999\n",
      "Case #11: 489999999999999999\n",
      "Case #12: 169999999999999999\n",
      "Case #13: 126699999999999999\n",
      "Case #14: 19999999999999999\n",
      "Case #15: 1999999999\n",
      "Case #16: 5999999999\n",
      "Case #17: None\n",
      "Case #18: 229999999999999999\n",
      "Case #19: 126999999999999999\n",
      "Case #20: 899999999999999999\n",
      "Case #21: None\n"
     ]
    }
   ],
   "source": [
    "def tidy_func(number):\n",
    "    line = str(number)\n",
    "    if len(line) ==1:\n",
    "        return str(line)\n",
    "    prev = \"0\"\n",
    "    for i, digit in enumerate(line):\n",
    "        if digit <= prev:\n",
    "            leftside = str(int(line[:i])-1)\n",
    "            rightside = \"9\" * (len(line) - i)\n",
    "            return str(leftside + rightside)\n",
    "        prev = digit\n",
    "\n",
    "infile   = open( 'input.txt', 'r' )\n",
    "cases = int(infile.readline())+1\n",
    "for i in range(cases):\n",
    "            line_fun = tidy_func(infile.readline().strip())\n",
    "            print(\"Case #%d: %s\" % (i+1, line_fun))"
   ]
  },
  {
   "cell_type": "code",
   "execution_count": 42,
   "metadata": {},
   "outputs": [
    {
     "data": {
      "text/plain": [
       "'5'"
      ]
     },
     "execution_count": 42,
     "metadata": {},
     "output_type": "execute_result"
    }
   ],
   "source": [
    "tidy_func(5)"
   ]
  },
  {
   "cell_type": "code",
   "execution_count": 43,
   "metadata": {},
   "outputs": [
    {
     "name": "stdout",
     "output_type": "stream",
     "text": [
      "Case #1: 129\n",
      "Case #2: 0999\n",
      "Case #3: 7\n",
      "Case #4: 099999999999999999\n",
      "Case #5: 699999999999999999\n",
      "Case #6: 266999999999999999\n",
      "Case #7: 599\n",
      "Case #8: 099999999999999999\n",
      "Case #9: 122999999999999999\n",
      "Case #10: 0999999999\n",
      "Case #11: 489999999999999999\n",
      "Case #12: 169999999999999999\n",
      "Case #13: 126699999999999999\n",
      "Case #14: 19999999999999999\n",
      "Case #15: 1999999999\n",
      "Case #16: 5999999999\n",
      "Case #17: None\n",
      "Case #18: 229999999999999999\n",
      "Case #19: 126999999999999999\n",
      "Case #20: 899999999999999999\n",
      "Case #21: None\n"
     ]
    }
   ],
   "source": [
    "infile   = open( 'input.txt', 'r' )\n",
    "cases = int(infile.readline())+1\n",
    "for i in range(cases):\n",
    "            line_fun = tidy_func(infile.readline().strip())\n",
    "            print(\"Case #%d: %s\" % (i+1, line_fun))"
   ]
  },
  {
   "cell_type": "code",
   "execution_count": null,
   "metadata": {},
   "outputs": [],
   "source": [
    "infile   = open( 'input.txt', 'r' )\n",
    "cases = int(infile.readline())+1\n",
    "for i in range(cases):\n",
    "            line = infile.readline().strip()\n",
    "            print(\"Case #%d: %s\" % (i+1, tidy_func(line)))"
   ]
  },
  {
   "cell_type": "code",
   "execution_count": 6,
   "metadata": {},
   "outputs": [
    {
     "name": "stdout",
     "output_type": "stream",
     "text": [
      "Algorithm for Google Code Jam - Qualification round 2017\n",
      "Exercise B - Tidy numbers\n",
      "Implemented by Fabrizio Calderan on March 7th, 2018\n",
      "\n",
      "Case #1: 129\n",
      "Case #2: 999\n",
      "Case #3: 7\n",
      "Case #4: 99999999999999999\n",
      "Case #5: 699999999999999999\n",
      "Case #6: 266999999999999999\n",
      "Case #7: 599\n",
      "Case #8: 113355556666999999\n",
      "Case #9: 123355667799999999\n",
      "Case #10: 999999999\n",
      "Case #11: 489999999999999999\n",
      "Case #12: 169999999999999999\n",
      "Case #13: 126699999999999999\n",
      "Case #14: 22333333445559999\n",
      "Case #15: 1999999999\n",
      "Case #16: 5999999999\n",
      "Case #17: 17\n",
      "Case #18: 233555999999999999\n",
      "Case #19: 126999999999999999\n",
      "Case #20: 999999999999999999\n"
     ]
    }
   ],
   "source": [
    "class Tidynumber():\n",
    "\n",
    "    def is_tidy( self ):\n",
    "\n",
    "        self.digits = list(reversed(self.rev))\n",
    "        return self.digits == sorted(self.digits)\n",
    "    def __init__( self, num ):\n",
    "        self.num = num\n",
    "        self.rev = [int(d) for d in num[::-1]]\n",
    "        self.result = int(num)\n",
    "    def calculate_tidy( self ):\n",
    "        while not self.is_tidy():\n",
    "            for i in range(0, len(self.rev)):\n",
    "                if self.rev[i] < self.rev[i + 1]:\n",
    "                    index = i + 1\n",
    "                    self.result -= int(self.num[-index:]) \n",
    "                    self.result -= 1\n",
    "                    self.num = str(self.result)\n",
    "                    self.rev = [int(d) for d in self.num[::-1]]\n",
    "                    break;\n",
    "        return self.result\n",
    "\n",
    "infile   = open( 'input.txt', 'r' )\n",
    "numtasks = int( infile.readline() ) + 1\n",
    "output   = []\n",
    "\n",
    "for i in range(1, numtasks):\n",
    "\n",
    "    tidy = Tidynumber(infile.readline().rstrip())\n",
    "    result = \"Case #%d: %d\" % (i, tidy.calculate_tidy())\n",
    "    output.append(result)\n",
    "\n",
    "print(\"\\n\".join(output));"
   ]
  },
  {
   "cell_type": "code",
   "execution_count": 18,
   "metadata": {},
   "outputs": [],
   "source": [
    "def find_preceding_tidy(number):\n",
    "    line = str(number)\n",
    "    prev = \"0\"\n",
    "    for i, digit in enumerate(line):\n",
    "        if digit < prev:\n",
    "            left_part = str(int(line[:i])-1)\n",
    "            right_part = \"9\" * (len(line) - i)\n",
    "            return left_part + right_part\n",
    "        prev = digit"
   ]
  },
  {
   "cell_type": "code",
   "execution_count": 19,
   "metadata": {},
   "outputs": [
    {
     "data": {
      "text/plain": [
       "'0999'"
      ]
     },
     "execution_count": 19,
     "metadata": {},
     "output_type": "execute_result"
    }
   ],
   "source": [
    "find_preceding_tidy(1000)"
   ]
  },
  {
   "cell_type": "code",
   "execution_count": null,
   "metadata": {},
   "outputs": [],
   "source": []
  }
 ],
 "metadata": {
  "kernelspec": {
   "display_name": "Python 2",
   "language": "python",
   "name": "python2"
  },
  "language_info": {
   "codemirror_mode": {
    "name": "ipython",
    "version": 2
   },
   "file_extension": ".py",
   "mimetype": "text/x-python",
   "name": "python",
   "nbconvert_exporter": "python",
   "pygments_lexer": "ipython2",
   "version": "2.7.15"
  }
 },
 "nbformat": 4,
 "nbformat_minor": 2
}
